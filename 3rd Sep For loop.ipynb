{
 "cells": [
  {
   "cell_type": "code",
   "execution_count": 9,
   "id": "6b77140e-a9d5-4eaf-a099-abbf9bcd34c5",
   "metadata": {},
   "outputs": [
    {
     "name": "stdout",
     "output_type": "stream",
     "text": [
      "Numbers from 1 to 10 : [1, 2, 3, 4, 5, 6, 7, 8, 9, 10]\n"
     ]
    }
   ],
   "source": [
    "#1. Write a Python program to print the numbers from 1 to 10 using a `for` loop.\n",
    "number_list = []\n",
    "for i in range(1, 11):\n",
    "    number_list.append(i)\n",
    "\n",
    "print(\"Numbers from 1 to 10 :\", number_list)"
   ]
  },
  {
   "cell_type": "code",
   "execution_count": 7,
   "id": "2d6f013d-9606-4530-adc4-68999c3e4e72",
   "metadata": {},
   "outputs": [
    {
     "name": "stdout",
     "output_type": "stream",
     "text": [
      "The sum of numbers in the list is: 15\n"
     ]
    }
   ],
   "source": [
    "#2. Create a program that calculates the sum of all numbers in a list using a `for` loop.\n",
    "def sum_num(list_):\n",
    "\n",
    "    total_sum = 0\n",
    "\n",
    "    for i in list_:\n",
    "        total_sum += i\n",
    "    return total_sum\n",
    "\n",
    "numbers_list = [1, 2, 3, 4, 5]\n",
    "result_sum = sum_num(numbers_list)\n",
    "    \n",
    "print(f\"The sum of numbers in the list is: {result_sum}\")"
   ]
  },
  {
   "cell_type": "code",
   "execution_count": 24,
   "id": "6c58ace6-2039-43f8-b34b-50db313a3510",
   "metadata": {},
   "outputs": [
    {
     "name": "stdout",
     "output_type": "stream",
     "text": [
      "Reversed string : dlroW olleH\n"
     ]
    }
   ],
   "source": [
    "#3. Write a program to print the characters of a string in reverse order using a `for` loop.\n",
    "String_ = \"Hello World\"\n",
    "String_reversed = \"\"\n",
    "\n",
    "for word in reversed(String_):\n",
    "    String_reversed += word\n",
    "\n",
    "print(\"Reversed string :\",String_reversed)"
   ]
  },
  {
   "cell_type": "code",
   "execution_count": 25,
   "id": "1deb70d7-2c0b-4282-bde0-f1aee285e19a",
   "metadata": {},
   "outputs": [
    {
     "name": "stdout",
     "output_type": "stream",
     "text": [
      "The factorial of 6 is: 720\n"
     ]
    }
   ],
   "source": [
    "#4. Develop a program that finds the factorial of a given number using a `for` loop.\n",
    "n = 6\n",
    "\n",
    "fact = 1\n",
    "\n",
    "\n",
    "if n < 0:\n",
    "    print(\"Factorial is undefined for negative numbers.\")\n",
    "elif n == 0 or n == 1:\n",
    "    print(f\"The factorial of {n} is: 1\")\n",
    "else:\n",
    "    for i in range(1, n + 1):\n",
    "        fact *= i\n",
    "\n",
    "    print(f\"The factorial of {n} is: {fact}\")"
   ]
  },
  {
   "cell_type": "code",
   "execution_count": 35,
   "id": "7ff85174-f390-4065-a7a1-0877f98395ff",
   "metadata": {},
   "outputs": [
    {
     "name": "stdout",
     "output_type": "stream",
     "text": [
      "5 * 1 = 5\n",
      "5 * 2 = 10\n",
      "5 * 3 = 15\n",
      "5 * 4 = 20\n",
      "5 * 5 = 25\n",
      "5 * 6 = 30\n",
      "5 * 7 = 35\n",
      "5 * 8 = 40\n",
      "5 * 9 = 45\n",
      "5 * 10 = 50\n"
     ]
    }
   ],
   "source": [
    "#5. Create a program to print the multiplication table of a given number using a `for` loop.\n",
    "n = 5\n",
    "\n",
    "Range = range(1,11)\n",
    "\n",
    "\n",
    "for i in Range:\n",
    "    print(n,\"*\",i,\"=\",n*i)"
   ]
  },
  {
   "cell_type": "code",
   "execution_count": 41,
   "id": "831efd17-17f5-435f-b142-146f2ec2f62a",
   "metadata": {},
   "outputs": [
    {
     "name": "stdout",
     "output_type": "stream",
     "text": [
      "Total odd numbers in List is  6 and even numbers is  5\n"
     ]
    }
   ],
   "source": [
    "#6. Write a program that counts the number of even and odd numbers in a list using a `for` loop.\n",
    "number_list = [1,2,3,4,5,6,7,8,9,10,11]\n",
    "odd = 0\n",
    "even = 0\n",
    "for i in number_list:\n",
    "    if i%2!=0:\n",
    "        odd +=1\n",
    "    else:\n",
    "        i%2==0\n",
    "        even+=1\n",
    "print(\"Total odd numbers in List is \",odd,\"and even numbers is \",even)"
   ]
  },
  {
   "cell_type": "code",
   "execution_count": 49,
   "id": "5684c36e-cc31-4f50-b917-59712e1c320a",
   "metadata": {},
   "outputs": [
    {
     "name": "stdout",
     "output_type": "stream",
     "text": [
      "[1, 4, 9, 16, 25]\n"
     ]
    }
   ],
   "source": [
    "#7. Develop a program that prints the squares of numbers from 1 to 5 using a `for` loop.\n",
    "list_l = []\n",
    "\n",
    "for i in range(1,6):\n",
    "    list_l.append(i*i)\n",
    "\n",
    "print(list_l)"
   ]
  },
  {
   "cell_type": "code",
   "execution_count": 55,
   "id": "cb70de6f-ddaf-42cf-b523-92aa58e21c22",
   "metadata": {},
   "outputs": [
    {
     "name": "stdout",
     "output_type": "stream",
     "text": [
      "length of a string is 11\n"
     ]
    }
   ],
   "source": [
    "#8. Create a program to find the length of a string without using the `len()` function.\n",
    "string_s = \"Hello World\"\n",
    "count = 0\n",
    "for i in string_s:\n",
    "    if i:\n",
    "        count+=1\n",
    "print(\"length of a string is\",count)"
   ]
  },
  {
   "cell_type": "code",
   "execution_count": 65,
   "id": "2d8ac4d6-8b00-42a4-b471-42e7361bcda9",
   "metadata": {},
   "outputs": [
    {
     "name": "stdout",
     "output_type": "stream",
     "text": [
      "The average of list is : 5.0\n"
     ]
    }
   ],
   "source": [
    "#9. Write a program that calculates the average of a list of numbers using a `for` loop.\n",
    "\n",
    "list_ls = [1,2,3,4,5,6,7,8,9]\n",
    "\n",
    "total_num = 0\n",
    "\n",
    "length = len(list_ls)\n",
    "\n",
    "for i in list_ls:\n",
    "    total_num +=i\n",
    "average = total_num/length\n",
    "\n",
    "print(\"The average of list is :\",average)"
   ]
  },
  {
   "cell_type": "code",
   "execution_count": 78,
   "id": "4e717980-6e53-4f86-bb05-1b64f6cd2388",
   "metadata": {},
   "outputs": [
    {
     "name": "stdout",
     "output_type": "stream",
     "text": [
      "The first 10 Fibonacci numbers are: [0, 1, 1, 2, 3, 5, 8, 13, 21, 34]\n"
     ]
    }
   ],
   "source": [
    "#10. Develop a program that prints the first `n` Fibonacci numbers using a `for` loop\n",
    "\n",
    "def generate_fibonacci(n):\n",
    "    fibonacci_numbers = [0, 1]\n",
    "\n",
    "    for _ in range(2, n):\n",
    "        \n",
    "        next_fibonacci = fibonacci_numbers[-1] + fibonacci_numbers[-2]\n",
    "        fibonacci_numbers.append(next_fibonacci)\n",
    "\n",
    "    return fibonacci_numbers\n",
    "\n",
    "\n",
    "n = 10\n",
    "fibonacci_sequence = generate_fibonacci(n)\n",
    "\n",
    "\n",
    "print(f\"The first {n} Fibonacci numbers are: {fibonacci_sequence}\")"
   ]
  },
  {
   "cell_type": "markdown",
   "id": "3dab8b54-bcf9-4ca5-8585-10808183c8e3",
   "metadata": {},
   "source": [
    "Intermediate Level:"
   ]
  },
  {
   "cell_type": "code",
   "execution_count": 84,
   "id": "92ec43bb-51d9-4c5b-97ea-f923f9751447",
   "metadata": {},
   "outputs": [
    {
     "name": "stdout",
     "output_type": "stream",
     "text": [
      "Sample List 1 does not contain duplicates.\n",
      "Sample List 2 contains duplicates.\n"
     ]
    }
   ],
   "source": [
    "#11. Write a program to check if a given list contains any duplicates using a `for` loop.\n",
    "\n",
    "def has_duplicates(input_list):\n",
    "    seen = set()\n",
    "    \n",
    "    for element in input_list:\n",
    "        if element in seen:\n",
    "            return True\n",
    "        seen.add(element)\n",
    "\n",
    "    return False\n",
    "\n",
    "sample_list1 = [1, 2, 3, 4, 5, 6]\n",
    "sample_list2 = [1, 2, 3, 4, 2, 6]\n",
    "\n",
    "if has_duplicates(sample_list1):\n",
    "    print(\"Sample List 1 contains duplicates.\")\n",
    "else:\n",
    "    print(\"Sample List 1 does not contain duplicates.\")\n",
    "\n",
    "\n",
    "if has_duplicates(sample_list2):\n",
    "    print(\"Sample List 2 contains duplicates.\")\n",
    "else:\n",
    "    print(\"Sample List 2 does not contain duplicates.\")"
   ]
  },
  {
   "cell_type": "code",
   "execution_count": 39,
   "id": "70a43ecd-4754-4bae-8dfb-63377a83d09e",
   "metadata": {},
   "outputs": [
    {
     "name": "stdout",
     "output_type": "stream",
     "text": [
      "Prime numbers in the range 1 to 50 are:\n",
      "2\n",
      "3\n",
      "5\n",
      "7\n",
      "11\n",
      "13\n",
      "17\n",
      "19\n",
      "23\n",
      "29\n",
      "31\n",
      "37\n",
      "41\n",
      "43\n",
      "47\n"
     ]
    }
   ],
   "source": [
    "#12. Create a program that prints the prime numbers in a given range using a `for` loop.\n",
    "\n",
    "def is_prime(num):\n",
    "    if num < 2:\n",
    "        return False\n",
    "    for i in range(2, int(num**0.5) + 1):\n",
    "        if num % i == 0:\n",
    "            return False\n",
    "    return True\n",
    "\n",
    "def print_primes_in_range(start, end):\n",
    "    print(f\"Prime numbers in the range {start} to {end} are:\")\n",
    "    for num in range(start, end + 1):\n",
    "        if is_prime(num):\n",
    "            print(num)\n",
    "\n",
    "# Example usage\n",
    "start_range = 1\n",
    "end_range = 50\n",
    "\n",
    "print_primes_in_range(start_range, end_range)"
   ]
  },
  {
   "cell_type": "code",
   "execution_count": 95,
   "id": "334f2e5f-c9c2-4557-b540-a57b3eabcd04",
   "metadata": {},
   "outputs": [
    {
     "name": "stdout",
     "output_type": "stream",
     "text": [
      "Number of vowels in a string : 3\n"
     ]
    }
   ],
   "source": [
    "#13. Develop a program that counts the number of vowels in a string using a `for` loop.\n",
    "\n",
    "count = 0\n",
    "\n",
    "string_a = \"Hello World\"\n",
    "\n",
    "vowels = \"aeiouAEIOU\"\n",
    "\n",
    "for i in string_a:\n",
    "    if i in vowels:\n",
    "        count+=1\n",
    "\n",
    "print(\"Number of vowels in a string :\",count)"
   ]
  },
  {
   "cell_type": "code",
   "execution_count": 102,
   "id": "1a102b71-9d4c-4b77-ae73-b4e5682061fb",
   "metadata": {},
   "outputs": [
    {
     "name": "stdout",
     "output_type": "stream",
     "text": [
      "The maximum element in the 2D list is: 57\n"
     ]
    }
   ],
   "source": [
    "#14. Write a program to find the maximum element in a 2D list using a nested `for` loop.\n",
    "\n",
    "def find_max_element(matrix):\n",
    "    if not matrix or not matrix[0]:\n",
    "        return None  # Return None for an empty matrix\n",
    "\n",
    "    max_element = matrix[0][0]\n",
    "\n",
    "    for row in matrix:\n",
    "        for element in row:\n",
    "            if element > max_element:\n",
    "                max_element = element\n",
    "\n",
    "    return max_element\n",
    "\n",
    "# Example usage\n",
    "two_d_list = [\n",
    "    [3, 8, 52],\n",
    "    [5, 12, 9],\n",
    "    [11, 4, 57]\n",
    "]\n",
    "\n",
    "max_value = find_max_element(two_d_list)\n",
    "\n",
    "if max_value is not None:\n",
    "    print(f\"The maximum element in the 2D list is: {max_value}\")\n",
    "else:\n",
    "    print(\"The 2D list is empty.\")"
   ]
  },
  {
   "cell_type": "code",
   "execution_count": 104,
   "id": "49f6c2f2-5370-4e35-b7c3-80332b0f6e57",
   "metadata": {},
   "outputs": [
    {
     "name": "stdout",
     "output_type": "stream",
     "text": [
      "[1, 2, 3, 4, 6, 7, 8, 6, 4]\n"
     ]
    }
   ],
   "source": [
    "#15. Create a program that removes all occurrences of a specific element from a list using a `for` loop.\n",
    "\n",
    "specific_element = 5\n",
    "\n",
    "list_s = [1,2,3,4,5,6,7,8,5,6,5,4]\n",
    "\n",
    "for i in list_s:\n",
    "    if i==specific_element:\n",
    "        list_s.remove(i)\n",
    "\n",
    "print(list_s)"
   ]
  },
  {
   "cell_type": "code",
   "execution_count": 116,
   "id": "c92a3f35-d284-4055-aaae-a06413677f3f",
   "metadata": {},
   "outputs": [
    {
     "name": "stdout",
     "output_type": "stream",
     "text": [
      "Multiplication table for 1\n",
      "1 X 1 = 1\n",
      "1 X 2 = 2\n",
      "1 X 3 = 3\n",
      "1 X 4 = 4\n",
      "1 X 5 = 5\n",
      "1 X 6 = 6\n",
      "1 X 7 = 7\n",
      "1 X 8 = 8\n",
      "1 X 9 = 9\n",
      "1 X 10 = 10\n",
      "\n",
      "Multiplication table for 2\n",
      "2 X 1 = 2\n",
      "2 X 2 = 4\n",
      "2 X 3 = 6\n",
      "2 X 4 = 8\n",
      "2 X 5 = 10\n",
      "2 X 6 = 12\n",
      "2 X 7 = 14\n",
      "2 X 8 = 16\n",
      "2 X 9 = 18\n",
      "2 X 10 = 20\n",
      "\n",
      "Multiplication table for 3\n",
      "3 X 1 = 3\n",
      "3 X 2 = 6\n",
      "3 X 3 = 9\n",
      "3 X 4 = 12\n",
      "3 X 5 = 15\n",
      "3 X 6 = 18\n",
      "3 X 7 = 21\n",
      "3 X 8 = 24\n",
      "3 X 9 = 27\n",
      "3 X 10 = 30\n",
      "\n",
      "Multiplication table for 4\n",
      "4 X 1 = 4\n",
      "4 X 2 = 8\n",
      "4 X 3 = 12\n",
      "4 X 4 = 16\n",
      "4 X 5 = 20\n",
      "4 X 6 = 24\n",
      "4 X 7 = 28\n",
      "4 X 8 = 32\n",
      "4 X 9 = 36\n",
      "4 X 10 = 40\n",
      "\n",
      "Multiplication table for 5\n",
      "5 X 1 = 5\n",
      "5 X 2 = 10\n",
      "5 X 3 = 15\n",
      "5 X 4 = 20\n",
      "5 X 5 = 25\n",
      "5 X 6 = 30\n",
      "5 X 7 = 35\n",
      "5 X 8 = 40\n",
      "5 X 9 = 45\n",
      "5 X 10 = 50\n",
      "\n"
     ]
    }
   ],
   "source": [
    "#16. Develop a program that generates a multiplication table for numbers from 1 to 5 using a nested `for` loop.\n",
    "    \n",
    "for j in range(1,6):    \n",
    "    print(\"Multiplication table for\",j)\n",
    "    \n",
    "    for i in range(1,11):\n",
    "        print(j,\"X\",i,\"=\",j*i)\n",
    "    print()"
   ]
  },
  {
   "cell_type": "code",
   "execution_count": 126,
   "id": "760b323b-77bd-4fac-9530-6fc7cfc6aec9",
   "metadata": {},
   "outputs": [
    {
     "name": "stdout",
     "output_type": "stream",
     "text": [
      "[-12.222222222222223, -6.666666666666667, -1.1111111111111112, 4.444444444444445, 10.0, 0.0]\n"
     ]
    }
   ],
   "source": [
    "#17. Write a program that converts a list of Fahrenheit temperatures to Celsius using a `for` loop.\n",
    "list_fahrenheit = [10,20,30,40,50,32]\n",
    "list_celsuis = []\n",
    "#C= 5/9×(°F−32) formula for converts a Fahrenheit temperatures to Celsius.\n",
    "\n",
    "for i in list_fahrenheit:\n",
    "    celsuis = 5/9*(i-32)\n",
    "    list_celsuis.append(celsuis)\n",
    "\n",
    "print(list_celsuis)"
   ]
  },
  {
   "cell_type": "code",
   "execution_count": 5,
   "id": "d24fa86b-683f-4bfb-8c87-0423c18d6578",
   "metadata": {},
   "outputs": [
    {
     "name": "stdout",
     "output_type": "stream",
     "text": [
      "Common element list : [4, 5, 6]\n"
     ]
    }
   ],
   "source": [
    "#18. Create a program to print the common elements from two lists using a `for` loop.\n",
    "\n",
    "list_1 = [1,2,3,4,5,6]\n",
    "\n",
    "list_2 = [4,5,6,7,8,9]\n",
    "\n",
    "common_ele = []\n",
    "\n",
    "for element in list_1:\n",
    "    if element in list_2:\n",
    "        common_ele.append(element)\n",
    "\n",
    "print(\"Common element list :\",common_ele)"
   ]
  },
  {
   "cell_type": "code",
   "execution_count": 23,
   "id": "5d02106e-94e8-49e1-a0e3-1d8f8e52dd17",
   "metadata": {},
   "outputs": [
    {
     "name": "stdout",
     "output_type": "stream",
     "text": [
      "  *\n",
      "  *  *\n",
      "  *  *  *\n",
      "  *  *  *  *\n",
      "  *  *  *  *  *\n",
      "  *  *  *  *  *  *\n",
      "  *  *  *  *  *  *  *\n",
      "  *  *  *  *  *  *  *  *\n",
      "  *  *  *  *  *  *  *  *  *\n"
     ]
    }
   ],
   "source": [
    "#19. Develop a program that prints the pattern of right-angled triangles using a `for` loop. Use ‘*’ to draw the \n",
    "#pattern\n",
    "rows = 10\n",
    "for i in range(1,rows):\n",
    "    print(i*\"  \"\"*\")"
   ]
  },
  {
   "cell_type": "code",
   "execution_count": 34,
   "id": "de59aaf9-c8a7-4f7d-aefb-61cf8d1ae5d3",
   "metadata": {},
   "outputs": [
    {
     "name": "stdin",
     "output_type": "stream",
     "text": [
      "Enter the first number:  45\n",
      "Enter the second number:  54\n"
     ]
    },
    {
     "name": "stdout",
     "output_type": "stream",
     "text": [
      "The GCD of 45 and 54 is: 9\n"
     ]
    }
   ],
   "source": [
    "#20. Write a program to find the greatest common divisor (GCD) of two numbers using a `for` loop.\n",
    "def find_gcd(a, b):\n",
    "    for i in range(1, min(a, b) + 1):\n",
    "        if a % i == 0 and b % i == 0:\n",
    "            gcd = i\n",
    "    return gcd\n",
    "\n",
    "\n",
    "num1 = int(input(\"Enter the first number: \"))\n",
    "num2 = int(input(\"Enter the second number: \"))\n",
    "\n",
    "gcd = find_gcd(num1, num2)\n",
    "\n",
    "print(f\"The GCD of {num1} and {num2} is: {gcd}\")"
   ]
  },
  {
   "cell_type": "markdown",
   "id": "0fa21a3a-d35a-4a49-97b2-814b58b1de9b",
   "metadata": {},
   "source": [
    "Advanced Level:"
   ]
  },
  {
   "cell_type": "code",
   "execution_count": 3,
   "id": "fc15e68a-9285-4867-afa6-19bebfdcb8a1",
   "metadata": {},
   "outputs": [
    {
     "name": "stdout",
     "output_type": "stream",
     "text": [
      "45\n"
     ]
    }
   ],
   "source": [
    "#21. Create a program that calculates the sum of the digits of numbers in a list using a list comprehension.\n",
    "list_l = [1, 2, 3, 4, 5, 6, 7, 8, 9]\n",
    "\n",
    "total_sum = sum([int(digit) for number in list_l for digit in str(number)])\n",
    "\n",
    "print(total_sum)"
   ]
  },
  {
   "cell_type": "code",
   "execution_count": 5,
   "id": "842fb8d0-ae89-4503-9457-b78629888121",
   "metadata": {},
   "outputs": [
    {
     "name": "stdin",
     "output_type": "stream",
     "text": [
      "Enter a number:  10\n"
     ]
    },
    {
     "name": "stdout",
     "output_type": "stream",
     "text": [
      "The prime factors of 10 are: [2, 5]\n"
     ]
    }
   ],
   "source": [
    "#22. Write a program to find the prime factors of a given number using a `for` loop and list comprehension.\n",
    "def prime_factors(n):\n",
    "    factors = [i for i in range(2, n + 1) if n % i == 0 and all(i % j != 0 for j in range(2, int(i**0.5) + 1))]\n",
    "    return factors\n",
    "\n",
    "num = int(input(\"Enter a number: \"))\n",
    "\n",
    "result = prime_factors(num)\n",
    "\n",
    "print(f\"The prime factors of {num} are: {result}\")"
   ]
  },
  {
   "cell_type": "code",
   "execution_count": 12,
   "id": "3ac966ea-fb49-40b2-93af-af5dc344f804",
   "metadata": {},
   "outputs": [
    {
     "name": "stdout",
     "output_type": "stream",
     "text": [
      "Original List: [1, 3, 3, 5, 6, 9, 7, 3, 7, 6, 4, 9]\n",
      "Unique Elements: [1, 3, 4, 5, 6, 7, 9]\n"
     ]
    }
   ],
   "source": [
    "#23. Develop a program that extracts unique elements from a list and stores them in a new list using a list\n",
    "#comprehension.\n",
    "\n",
    "list_l = [1,3,3,5,6,9,7,3,7,6,4,9]\n",
    "\n",
    "unique_ele = list(set(element for element in list_l))\n",
    "\n",
    "\n",
    "print(\"Original List:\", list_l)\n",
    "print(\"Unique Elements:\", unique_ele)"
   ]
  },
  {
   "cell_type": "code",
   "execution_count": 33,
   "id": "f7dd6ed0-8979-4991-a64e-caabdc8b039f",
   "metadata": {},
   "outputs": [
    {
     "name": "stdin",
     "output_type": "stream",
     "text": [
      "Enter the limit : 500\n"
     ]
    },
    {
     "name": "stdout",
     "output_type": "stream",
     "text": [
      "[0, 1, 2, 3, 4, 5, 6, 7, 8, 9, 11, 22, 33, 44, 55, 66, 77, 88, 99, 101, 111, 121, 131, 141, 151, 161, 171, 181, 191, 202, 212, 222, 232, 242, 252, 262, 272, 282, 292, 303, 313, 323, 333, 343, 353, 363, 373, 383, 393, 404, 414, 424, 434, 444, 454, 464, 474, 484, 494]\n"
     ]
    }
   ],
   "source": [
    "#24. Create a program that generates a list of all palindromic numbers up to a specified limit using a list\n",
    "#comprehension.\n",
    "def palindromic(number):\n",
    "    return str(number)==str(number)[::-1]\n",
    "\n",
    "limit = int(input(\"Enter the limit :\"))\n",
    "\n",
    "list_pldrm = [i for i in range(limit+1) if palindromic(i)]\n",
    "\n",
    "print(list_pldrm)"
   ]
  },
  {
   "cell_type": "code",
   "execution_count": 35,
   "id": "f0c4adb3-a872-4525-80db-86f77aa20238",
   "metadata": {},
   "outputs": [
    {
     "name": "stdout",
     "output_type": "stream",
     "text": [
      "[1, 2, 3, 4, 5, 6, 7, 8, 9]\n"
     ]
    }
   ],
   "source": [
    "#25. Write a program to flatten a nested list using list comprehension.\n",
    "nested_list = [[1,2,3],[4,5,6],[7,8,9]]\n",
    "\n",
    "flattened_list = [element for sublist in nested_list for element in sublist]\n",
    "\n",
    "print(flattened_list)"
   ]
  },
  {
   "cell_type": "code",
   "execution_count": 38,
   "id": "1dd66eec-9f16-4f9d-affd-a73bcd881581",
   "metadata": {},
   "outputs": [
    {
     "name": "stdout",
     "output_type": "stream",
     "text": [
      "Sum of all odd numbers in list : 25\n",
      "Sum of all even numbers in list : 30\n"
     ]
    }
   ],
   "source": [
    "#26. Develop a program that computes the sum of even and odd numbers in a list separately using list\n",
    "#comprehension.\n",
    "list_num = [1,2,3,4,5,6,7,8,9,10]\n",
    "\n",
    "sum_odd = sum(int(number) for number in list_num if number%2!=0)\n",
    "\n",
    "sum_even = sum(int(number) for number in list_num if number%2==0)\n",
    "\n",
    "print(\"Sum of all odd numbers in list :\",sum_odd)\n",
    "\n",
    "print(\"Sum of all even numbers in list :\",sum_even)"
   ]
  },
  {
   "cell_type": "code",
   "execution_count": 41,
   "id": "bcad0959-836b-4616-b2d8-3f82841663f5",
   "metadata": {},
   "outputs": [
    {
     "name": "stdout",
     "output_type": "stream",
     "text": [
      "List of squares of odd numbers : [1, 9, 25, 49, 81]\n"
     ]
    }
   ],
   "source": [
    "#27. Create a program that generates a list of squares of odd numbers between 1 and 10 using list\n",
    "#comprehension.\n",
    "\n",
    "list_numbers = [1,2,3,4,5,6,7,8,9,10]\n",
    "\n",
    "odd_numbers = [i for i in list_numbers if i%2!=0]\n",
    "\n",
    "squares = [j**2 for j in odd_numbers]\n",
    "\n",
    "print(\"List of squares of odd numbers :\",squares)"
   ]
  },
  {
   "cell_type": "code",
   "execution_count": 57,
   "id": "dc029f15-f7bb-46b5-996e-1b46682c39bd",
   "metadata": {},
   "outputs": [
    {
     "name": "stdout",
     "output_type": "stream",
     "text": [
      "Combined Dictionary: {'a': 6, 'b': 7, 'c': 8}\n"
     ]
    }
   ],
   "source": [
    "#28. Write a program that combines two lists into a dictionary using list comprehension.\n",
    "list_A = ['a', 'b', 'c']\n",
    "list_B = [6,7,8,9,10]\n",
    "\n",
    "combined_dict = {list_A[i]:list_B[i] for i in range(min(len(list_A), len(list_B)))}\n",
    "\n",
    "print(\"Combined Dictionary:\", combined_dict)"
   ]
  },
  {
   "cell_type": "code",
   "execution_count": 73,
   "id": "e7ecf966-2b2c-4be9-b3ac-b19141acf441",
   "metadata": {},
   "outputs": [
    {
     "name": "stdout",
     "output_type": "stream",
     "text": [
      "['E', 'O', 'O', 'O', 'A', 'E', 'O', 'U']\n"
     ]
    }
   ],
   "source": [
    "#29. Develop a program that extracts the vowels from a string and stores them in a list using list comprehension.\n",
    "string_s = \"HELLO WORLD , HOW ARE YOU\"\n",
    "\n",
    "list_vowels = []\n",
    "\n",
    "vowels = \"aeiouAEIOU\"\n",
    "\n",
    "[list_vowels.append(i) for i in string_s if i in vowels]\n",
    "\n",
    "print(list_vowels)"
   ]
  },
  {
   "cell_type": "code",
   "execution_count": 84,
   "id": "537dc48d-0a5e-4491-bf24-a7b90686b04f",
   "metadata": {},
   "outputs": [
    {
     "name": "stdout",
     "output_type": "stream",
     "text": [
      "['122', '', '778', '65']\n"
     ]
    }
   ],
   "source": [
    "#30. Create a program that removes all non-numeric characters from a list of strings using list comprehension.\n",
    "\n",
    "list_str = [\"abcd122\",\"gh++\",\"asdf778\",\"qwerty65\"]\n",
    "\n",
    "digit_list = [\"\".join(i for i in j if i.isdigit()) for j in list_str]\n",
    "\n",
    "print(digit_list)"
   ]
  },
  {
   "cell_type": "markdown",
   "id": "0938f949-133a-4ed3-a19e-de5dec8c4af1",
   "metadata": {},
   "source": [
    "Challenge Level:"
   ]
  },
  {
   "cell_type": "markdown",
   "id": "b4d22ca9-1aad-4430-b6ec-6196eaf29d03",
   "metadata": {},
   "source": []
  },
  {
   "cell_type": "code",
   "execution_count": 85,
   "id": "1cf632a9-88c0-4287-9694-bd6c551018b6",
   "metadata": {},
   "outputs": [
    {
     "name": "stdin",
     "output_type": "stream",
     "text": [
      "Enter the limit:  100\n"
     ]
    },
    {
     "name": "stdout",
     "output_type": "stream",
     "text": [
      "Prime Numbers up to 100 : [2, 3, 5, 7, 11, 13, 17, 19, 23, 29, 31, 37, 41, 43, 47, 53, 59, 61, 67, 71, 73, 79, 83, 89, 97]\n"
     ]
    }
   ],
   "source": [
    "#31. Write a program to generate a list of prime numbers using the Sieve of Eratosthenes algorithm and list\n",
    "#comprehension.\n",
    "def sieve_of_eratosthenes(limit):\n",
    "    primes = [True] * (limit + 1)\n",
    "    primes[0] = primes[1] = False\n",
    "\n",
    "    for i in range(2, int(limit**0.5) + 1):\n",
    "        if primes[i]:\n",
    "            for j in range(i*i, limit + 1, i):\n",
    "                primes[j] = False\n",
    "\n",
    "    return [num for num in range(2, limit + 1) if primes[num]]\n",
    "\n",
    "\n",
    "limit = int(input(\"Enter the limit: \"))\n",
    "\n",
    "prime_list = sieve_of_eratosthenes(limit)\n",
    "\n",
    "print(\"Prime Numbers up to\", limit, \":\", prime_list)"
   ]
  },
  {
   "cell_type": "code",
   "execution_count": 88,
   "id": "8886e606-6a8b-42f2-a61c-f50cbd9c33be",
   "metadata": {},
   "outputs": [
    {
     "name": "stdin",
     "output_type": "stream",
     "text": [
      "Enter the limit:  20\n"
     ]
    },
    {
     "name": "stdout",
     "output_type": "stream",
     "text": [
      "Pythagorean Triplets up to 20: [(3, 4, 5), (5, 12, 13), (6, 8, 10), (8, 15, 17), (9, 12, 15), (12, 16, 20)]\n"
     ]
    }
   ],
   "source": [
    "#32. Create a program that generates a list of all Pythagorean triplets up to a specified limit using list\n",
    "#comprehension.\n",
    "\n",
    "def pythagorean_triplets(limit):\n",
    "    triplets = [(a, b, c) for a in range(1, limit + 1) for b in range(a, limit + 1) for c in range(b, limit + 1) if a**2 + b**2 == c**2]\n",
    "    return triplets\n",
    "\n",
    "\n",
    "limit = int(input(\"Enter the limit: \"))\n",
    "\n",
    "pythagorean_list = pythagorean_triplets(limit)\n",
    "\n",
    "print(f\"Pythagorean Triplets up to {limit}:\", pythagorean_list)"
   ]
  },
  {
   "cell_type": "code",
   "execution_count": 96,
   "id": "4a9e7a94-5995-4e6f-bf06-389aff68d129",
   "metadata": {},
   "outputs": [
    {
     "name": "stdout",
     "output_type": "stream",
     "text": [
      "Possible combinations of two lists [(1, 4), (1, 5), (1, 6), (2, 4), (2, 5), (2, 6), (3, 4), (3, 5), (3, 6), (4, 4), (4, 5), (4, 6)]\n"
     ]
    }
   ],
   "source": [
    "#33. Develop a program that generates a list of all possible combinations of two lists using list comprehension.\n",
    "list_X = [1,2,3,4]\n",
    "\n",
    "list_Z = [4,5,6]\n",
    "\n",
    "list_comb = [(i,j) for i in list_X for j in list_Z]\n",
    "\n",
    "print(\"Possible combinations of two lists\",list_comb)"
   ]
  },
  {
   "cell_type": "code",
   "execution_count": 20,
   "id": "2f5c9677-48b0-49ea-a873-be65e614f01a",
   "metadata": {},
   "outputs": [
    {
     "name": "stdout",
     "output_type": "stream",
     "text": [
      "List of Numbers: [1, 2, 4, 5, 6, 7, 10, 7, 4, 6, 5, 7]\n",
      "Mean: 5.333333333333333\n",
      "Median: 5.5\n",
      "Mode: 7\n"
     ]
    }
   ],
   "source": [
    "#34. Write a program that calculates the mean, median, and mode of a list of numbers using list\n",
    "#comprehension.\n",
    "# Sample list of numbers\n",
    "numbers = [1,2,4,5,6,7,10,7,4,6,5,7]\n",
    "\n",
    "\n",
    "mean_value = sum(numbers) / len(numbers)\n",
    "\n",
    "\n",
    "sorted_numbers = sorted(numbers)\n",
    "mid = len(sorted_numbers) // 2\n",
    "median_value = (sorted_numbers[mid] + sorted_numbers[mid - 1]) / 2 if len(sorted_numbers) % 2 == 0 else sorted_numbers[mid]\n",
    "\n",
    "\n",
    "counts = {num: numbers.count(num) for num in set(numbers)}\n",
    "mode_value = max(counts, key=counts.get)\n",
    "\n",
    "print(\"List of Numbers:\", numbers)\n",
    "print(\"Mean:\", mean_value)\n",
    "print(\"Median:\", median_value)\n",
    "print(\"Mode:\", mode_value)"
   ]
  },
  {
   "cell_type": "code",
   "execution_count": 23,
   "id": "c51853a3-dd29-4bbe-a623-923133aedfc4",
   "metadata": {},
   "outputs": [
    {
     "name": "stdin",
     "output_type": "stream",
     "text": [
      "Enter the number of rows for Pascal's Triangle:  5\n"
     ]
    },
    {
     "name": "stdout",
     "output_type": "stream",
     "text": [
      "[1]\n",
      "[1, 1]\n",
      "[1, 2, 1]\n",
      "[1, 3, 3, 1]\n",
      "[1, 4, 6, 4, 1]\n"
     ]
    }
   ],
   "source": [
    "#35. Create a program that generates Pascal's triangle up to a specified number of rows using list\n",
    "#comprehension.\n",
    "\n",
    "def calculate_row(previous_row):\n",
    "    return [1] + [previous_row[i-1] + previous_row[i] for i in range(1, len(previous_row))] + [1]\n",
    "\n",
    "def generate_pascals_triangle(num_rows):\n",
    "    triangle = [[1]]\n",
    "    triangle.extend(calculate_row(triangle[row-1]) for row in range(1, num_rows))\n",
    "    return triangle\n",
    "\n",
    "# Example usage:\n",
    "num_rows = int(input(\"Enter the number of rows for Pascal's Triangle: \"))\n",
    "\n",
    "pascals_triangle = generate_pascals_triangle(num_rows)\n",
    "\n",
    "# Printing Pascal's Triangle\n",
    "for row in pascals_triangle:\n",
    "    print(row)"
   ]
  },
  {
   "cell_type": "code",
   "execution_count": 2,
   "id": "384f54df-4eda-4841-82b1-fd35bf6489a9",
   "metadata": {},
   "outputs": [
    {
     "name": "stdout",
     "output_type": "stream",
     "text": [
      "The sum of factorials for numbers from 1 to 5 is: 153\n"
     ]
    }
   ],
   "source": [
    "#36. Develop a program that calculates the sum of the digits of a factorial of numbers from 1 to 5 using list\n",
    "#comprehension.\n",
    "\n",
    "def factorial(n):\n",
    "    return 1 if n == 0 else n * factorial(n-1)\n",
    "\n",
    "# Calculate the sum of factorial results using list comprehension\n",
    "sum_of_factorials = sum(factorial(num) for num in range(1, 6))\n",
    "\n",
    "# Print the result\n",
    "print(f\"The sum of factorials for numbers from 1 to 5 is: {sum_of_factorials}\")"
   ]
  },
  {
   "cell_type": "code",
   "execution_count": 9,
   "id": "090f1c7f-d131-46c2-856b-35401b6b24ed",
   "metadata": {},
   "outputs": [
    {
     "name": "stdin",
     "output_type": "stream",
     "text": [
      "Enter a sentence:  This is sample string.\n"
     ]
    },
    {
     "name": "stdout",
     "output_type": "stream",
     "text": [
      "The longest word in the sentence is: string.\n"
     ]
    }
   ],
   "source": [
    "#37. Write a program that finds the longest word in a sentence using list comprehension.\n",
    "def find_longest_word(sentence):\n",
    "    words = sentence.split()\n",
    "    longest_word = max(word for word in words)\n",
    "    return longest_word\n",
    "\n",
    "# Example usage:\n",
    "input_sentence = input(\"Enter a sentence: \")\n",
    "\n",
    "longest_word = find_longest_word(input_sentence)\n",
    "\n",
    "print(f\"The longest word in the sentence is: {longest_word}\")"
   ]
  },
  {
   "cell_type": "code",
   "execution_count": 27,
   "id": "638c6a7a-0aeb-40eb-bbb2-9f5806b9e8b6",
   "metadata": {},
   "outputs": [
    {
     "name": "stdout",
     "output_type": "stream",
     "text": [
      "['Kangaroo', 'Alligator', 'Chimpanzee']\n"
     ]
    }
   ],
   "source": [
    "#38. Create a program that filters a list of strings to include only those with more than \n",
    "#three vowels using list comprehension.\n",
    "def count_vowels(word):\n",
    "    return sum(1 for char in word if char in \"AEIOUaeiou\")\n",
    "\n",
    "words = [\"Cat\", \"Elephant\", \"Kangaroo\", \"Alligator\", \"Cheetah\", \"Chimpanzee\"]\n",
    "\n",
    "list_ = [i for i in words if count_vowels(i) > 3]\n",
    "\n",
    "print(list_)"
   ]
  },
  {
   "cell_type": "code",
   "execution_count": 36,
   "id": "87201064-11ad-4d5d-9adc-f907eb4a72c4",
   "metadata": {},
   "outputs": [
    {
     "name": "stdout",
     "output_type": "stream",
     "text": [
      "The sum of digits for numbers from 1 to 1000 is: 13501\n"
     ]
    }
   ],
   "source": [
    "#39. Develop a program that calculates the sum of the digits of numbers from 1 to 1000 using list\n",
    "#comprehension.\n",
    "def sum_digits(num):\n",
    "    return sum(int(i) for i in str(num))\n",
    "\n",
    "sum_num = sum(sum_digits(j) for j in range(1,1001))\n",
    "\n",
    "print(f\"The sum of digits for numbers from 1 to 1000 is: {total_sum}\")"
   ]
  },
  {
   "cell_type": "code",
   "execution_count": 37,
   "id": "5d82f9e9-c89a-4517-a382-87ad0df84861",
   "metadata": {},
   "outputs": [
    {
     "name": "stdout",
     "output_type": "stream",
     "text": [
      "Prime Palindromic Numbers: [2, 3, 5, 7, 11, 101, 131, 151, 181, 191, 313, 353, 373, 383, 727, 757, 787, 797, 919, 929]\n"
     ]
    }
   ],
   "source": [
    "#40. Write a program that generates a list of prime palindromic numbers using list comprehension.\n",
    "def is_prime(num):\n",
    "    if num < 2:\n",
    "        return False\n",
    "    for i in range(2, int(num**0.5) + 1):\n",
    "        if num % i == 0:\n",
    "            return False\n",
    "    return True\n",
    "\n",
    "prime_palindromes = [num for num in range(1, 1000) if is_prime(num) and str(num) == str(num)[::-1]]\n",
    "\n",
    "# Print the result\n",
    "print(\"Prime Palindromic Numbers:\", prime_palindromes)"
   ]
  },
  {
   "cell_type": "code",
   "execution_count": null,
   "id": "a6cf4f03-2620-422c-bbef-b96d887d829a",
   "metadata": {},
   "outputs": [],
   "source": []
  }
 ],
 "metadata": {
  "kernelspec": {
   "display_name": "Python 3 (ipykernel)",
   "language": "python",
   "name": "python3"
  },
  "language_info": {
   "codemirror_mode": {
    "name": "ipython",
    "version": 3
   },
   "file_extension": ".py",
   "mimetype": "text/x-python",
   "name": "python",
   "nbconvert_exporter": "python",
   "pygments_lexer": "ipython3",
   "version": "3.10.8"
  }
 },
 "nbformat": 4,
 "nbformat_minor": 5
}
